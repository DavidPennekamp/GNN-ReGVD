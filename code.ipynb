{
 "cells": [
  {
   "attachments": {},
   "cell_type": "markdown",
   "metadata": {},
   "source": [
    "# validation of the replication results"
   ]
  },
  {
   "cell_type": "code",
   "execution_count": 42,
   "metadata": {},
   "outputs": [],
   "source": [
    "# load pytorch library\n",
    "\n",
    "import torch\n",
    "\n",
    "# load the model from the saved file in .bin format\n",
    "\n",
    "model = torch.load('code/saved_models/regcn_l2_hs128_uni_ws5_lr5e4/checkpoint-best-acc/ReGVD_GCN_UniT_G-CB.bin')"
   ]
  },
  {
   "cell_type": "code",
   "execution_count": 43,
   "metadata": {},
   "outputs": [],
   "source": [
    "# load txt file into pandas data frame\n",
    "\n",
    "import pandas as pd\n",
    "\n",
    "df_pred = pd.read_csv('code/saved_models/regcn_l2_hs128_uni_ws5_lr5e4/predictions_ReGVD_GCN_UniT_G-CB.txt', sep='\\t', header=None)\n",
    "df_pred_win = pd.read_csv('code/saved_models/regcn_l2_hs128_uni_ws5_lr5e4_WIN/predictions_ReGVD_GCN_UniT_G-CB_WIN.txt', sep='\\t', header=None)\n",
    "df_pred_replication = pd.read_csv('code/saved_models/regcn_l2_hs128_uni_ws5_lr5e4_replication/predictions.txt', sep='\\t', header=None)\n",
    "df_pred_GGNN = pd.read_csv('code/saved_models/reggnn_l2_hs128_uni_ws5_lr5e4/predictions_ReGVD_GGNN_UniT_CB.txt', sep='\\t', header=None)\n",
    "df_pred_GCN_idx = pd.read_csv('code/saved_models/regcn_l2_hs128_idx_ws5_lr5e4/predictions_ReGVD_GCN_idx_G-CB.txt', sep='\\t', header=None)\n"
   ]
  },
  {
   "cell_type": "code",
   "execution_count": 44,
   "metadata": {},
   "outputs": [
    {
     "data": {
      "text/html": [
       "<div>\n",
       "<style scoped>\n",
       "    .dataframe tbody tr th:only-of-type {\n",
       "        vertical-align: middle;\n",
       "    }\n",
       "\n",
       "    .dataframe tbody tr th {\n",
       "        vertical-align: top;\n",
       "    }\n",
       "\n",
       "    .dataframe thead th {\n",
       "        text-align: right;\n",
       "    }\n",
       "</style>\n",
       "<table border=\"1\" class=\"dataframe\">\n",
       "  <thead>\n",
       "    <tr style=\"text-align: right;\">\n",
       "      <th></th>\n",
       "      <th>idx</th>\n",
       "      <th>pred</th>\n",
       "    </tr>\n",
       "  </thead>\n",
       "  <tbody>\n",
       "    <tr>\n",
       "      <th>0</th>\n",
       "      <td>3</td>\n",
       "      <td>1</td>\n",
       "    </tr>\n",
       "    <tr>\n",
       "      <th>1</th>\n",
       "      <td>12</td>\n",
       "      <td>0</td>\n",
       "    </tr>\n",
       "    <tr>\n",
       "      <th>2</th>\n",
       "      <td>35</td>\n",
       "      <td>0</td>\n",
       "    </tr>\n",
       "    <tr>\n",
       "      <th>3</th>\n",
       "      <td>43</td>\n",
       "      <td>1</td>\n",
       "    </tr>\n",
       "    <tr>\n",
       "      <th>4</th>\n",
       "      <td>60</td>\n",
       "      <td>1</td>\n",
       "    </tr>\n",
       "  </tbody>\n",
       "</table>\n",
       "</div>"
      ],
      "text/plain": [
       "   idx  pred\n",
       "0    3     1\n",
       "1   12     0\n",
       "2   35     0\n",
       "3   43     1\n",
       "4   60     1"
      ]
     },
     "execution_count": 44,
     "metadata": {},
     "output_type": "execute_result"
    }
   ],
   "source": [
    "# rename column 0 of df_pred to 'idx' and column 1 to 'pred'\n",
    "\n",
    "df_pred.columns = ['idx', 'pred']\n",
    "df_pred_win.columns = ['idx', 'pred']\n",
    "df_pred_replication.columns = ['idx', 'pred']\n",
    "df_pred_GGNN.columns = ['idx', 'pred']\n",
    "df_pred_GCN_idx.columns = ['idx', 'pred']\n",
    "\n",
    "df_pred.head()"
   ]
  },
  {
   "cell_type": "code",
   "execution_count": 45,
   "metadata": {},
   "outputs": [],
   "source": [
    "# load test.jsonl as pandas data frame\n",
    "\n",
    "import json\n",
    "\n",
    "with open('dataset/test.jsonl') as f:\n",
    "    js_all = [json.loads(line) for line in f]\n",
    "\n",
    "# store test.jsonl as pandas data frame\n",
    "\n",
    "df_test = pd.DataFrame(js_all)\n",
    "\n"
   ]
  },
  {
   "cell_type": "code",
   "execution_count": 46,
   "metadata": {},
   "outputs": [],
   "source": [
    "# delete columns from df_test with name 'project', 'commit_id' and 'func'\n",
    "\n",
    "del df_test['project']\n",
    "del df_test['commit_id']\n",
    "del df_test['func']"
   ]
  },
  {
   "cell_type": "code",
   "execution_count": 47,
   "metadata": {},
   "outputs": [],
   "source": [
    "# change order of columns in df_test an move 'idx' to the first position\n",
    "\n",
    "cols = df_test.columns.tolist()\n",
    "cols = cols[-1:] + cols[:-1]\n",
    "df_test = df_test[cols]\n"
   ]
  },
  {
   "cell_type": "code",
   "execution_count": 48,
   "metadata": {},
   "outputs": [
    {
     "name": "stdout",
     "output_type": "stream",
     "text": [
      "accuracy_ReGVD_GCN_UniT_G_CB:  0.6248169838945827\n",
      "accuracy_replication:  0.6248169838945827\n",
      "accuracy_ReGVD_GCN_UniT_G_CB_WIN:  0.633601756954612\n",
      "accuracy_ReGVD_GGNN_UniT_CB:  0.6204245973645681\n",
      "accuracy_ReGVD_GCN_idx_G_CB:  0.6171303074670571\n"
     ]
    }
   ],
   "source": [
    "# calculate the accucuracy of df_pred and df_test\n",
    "\n",
    "y_pred = df_pred['pred'].astype(int)\n",
    "y_pred_win = df_pred_win['pred'].astype(int)\n",
    "y_pred_replication = df_pred_replication['pred'].astype(int)\n",
    "y_pred_GGNN = df_pred_GGNN['pred'].astype(int)\n",
    "y_pred_GCN_idx = df_pred_GCN_idx['pred'].astype(int)\n",
    "y_true = df_test['target'].astype(int)\n",
    "\n",
    "# import accuracy from sklearn\n",
    "\n",
    "from sklearn.metrics import accuracy_score\n",
    "\n",
    "accuracy_ReGVD_GCN_UniT_G_CB = accuracy_score(y_true, y_pred)\n",
    "accuracy_ReGVD_GCN_UniT_G_CB_WIN = accuracy_score(y_true, y_pred_win)\n",
    "accuracy_replication = accuracy_score(y_true, y_pred_replication)\n",
    "accuracy_ReGVD_GGNN_UniT_CB = accuracy_score(y_true, y_pred_GGNN)\n",
    "accuracy_ReGVD_GCN_idx_G_CB = accuracy_score(y_true, y_pred_GCN_idx)\n",
    "\n",
    "print(\"accuracy_ReGVD_GCN_UniT_G_CB: \", accuracy_ReGVD_GCN_UniT_G_CB)\n",
    "print(\"accuracy_replication: \", accuracy_replication)\n",
    "print(\"accuracy_ReGVD_GCN_UniT_G_CB_WIN: \", accuracy_ReGVD_GCN_UniT_G_CB_WIN)\n",
    "print(\"accuracy_ReGVD_GGNN_UniT_CB: \", accuracy_ReGVD_GGNN_UniT_CB)\n",
    "print(\"accuracy_ReGVD_GCN_idx_G_CB: \", accuracy_ReGVD_GCN_idx_G_CB)\n"
   ]
  },
  {
   "cell_type": "code",
   "execution_count": 66,
   "metadata": {},
   "outputs": [
    {
     "data": {
      "image/png": "[encoded data removed]",
      "text/plain": [
       "<Figure size 1000x700 with 2 Axes>"
      ]
     },
     "metadata": {},
     "output_type": "display_data"
    }
   ],
   "source": [
    "# make confusion matrix from y_true and y_pred\n",
    "\n",
    "from sklearn.metrics import confusion_matrix\n",
    "\n",
    "confusion_matrix(y_true, y_pred)\n",
    "\n",
    "import seaborn as sn\n",
    "\n",
    "import matplotlib.pyplot as plt\n",
    "\n",
    "df_cm = pd.DataFrame(confusion_matrix(y_true, y_pred), index = [i for i in \"01\"], columns = [i for i in \"01\"])\n",
    "\n",
    "plt.figure(figsize = (10,7))\n",
    "\n",
    "ax= plt.subplot()\n",
    "sn.heatmap(df_cm, annot=True, fmt='g', ax=ax)\n",
    "\n",
    "ax.set_xlabel('Predicted labels')\n",
    "ax.set_ylabel('True labels')\n",
    "ax.set_title('Confusion Matrix')\n",
    "ax.xaxis.set_ticklabels(['not vulnerable', 'vulnerable'])\n",
    "ax.yaxis.set_ticklabels(['not vulnerable', 'vulnerable']);\n",
    "\n",
    "\n",
    "plt.show()\n",
    "\n",
    "\n"
   ]
  },
  {
   "cell_type": "code",
   "execution_count": 68,
   "metadata": {},
   "outputs": [
    {
     "name": "stdout",
     "output_type": "stream",
     "text": [
      "recall:  0.44143426294820715\n",
      "specificity:  0.7806364251861883\n"
     ]
    }
   ],
   "source": [
    "# calculate the recall and specificity of y_true and y_pred\n",
    "\n",
    "from sklearn.metrics import recall_score\n",
    "\n",
    "recall = recall_score(y_true, y_pred)\n",
    "tn, fp, fn, tp = confusion_matrix(y_true, y_pred).ravel()\n",
    "specificity = tn / (tn+fp)\n",
    "\n",
    "print(\"recall: \", recall)\n",
    "\n",
    "print(\"specificity: \", specificity)"
   ]
  }
 ],
 "metadata": {
  "kernelspec": {
   "display_name": "deep_learning_replicate1",
   "language": "python",
   "name": "python3"
  },
  "language_info": {
   "codemirror_mode": {
    "name": "ipython",
    "version": 3
   },
   "file_extension": ".py",
   "mimetype": "text/x-python",
   "name": "python",
   "nbconvert_exporter": "python",
   "pygments_lexer": "ipython3",
   "version": "3.8.16"
  },
  "orig_nbformat": 4
 },
 "nbformat": 4,
 "nbformat_minor": 2
}
